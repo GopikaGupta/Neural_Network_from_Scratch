{
 "cells": [
  {
   "cell_type": "code",
   "execution_count": 2,
   "metadata": {},
   "outputs": [
    {
     "name": "stdout",
     "output_type": "stream",
     "text": [
      "[[ 0.5031  -1.04185 -2.03875]\n",
      " [ 0.2434  -2.7332  -5.7633 ]\n",
      " [-0.99314  1.41254 -0.35655]]\n"
     ]
    }
   ],
   "source": [
    "## Loading packages\n",
    "import numpy as np\n",
    "\n",
    "inputs=[[1,2,3,2.5],\n",
    "        [2,5,-1,2],\n",
    "        [-1.5,2.7,3.3,-0.8]]\n",
    "\n",
    "weights=[[0.2,0.8,-0.5,1],\n",
    "         [0.5,-0.91,0.26,-0.5],\n",
    "         [-0.26,-0.27,0.17,0.87]]\n",
    "\n",
    "biases=[2,3,0.5]\n",
    "\n",
    "weights2=[[0.1,-0.14,0.5],\n",
    "          [-0.5,0.12,-0.33],\n",
    "          [-0.44,0.73,-0.13]]\n",
    "\n",
    "biases2=[-1,2,-0.5]\n",
    "\n",
    "\n",
    "### Convert inputs to arrays\n",
    "inputs=np.array(inputs)\n",
    "weights=np.array(weights)\n",
    "weights2=np.array(weights2)\n",
    "biases=np.array(biases)\n",
    "biases2=np.array(biases2)\n",
    "\n",
    "\n",
    "### Outputs\n",
    "output1=np.dot(inputs, np.transpose(weights))+biases\n",
    "output2=np.dot(output1, np.transpose(weights2))+biases2\n",
    "\n",
    "print(output2)"
   ]
  }
 ],
 "metadata": {
  "kernelspec": {
   "display_name": "base",
   "language": "python",
   "name": "python3"
  },
  "language_info": {
   "codemirror_mode": {
    "name": "ipython",
    "version": 3
   },
   "file_extension": ".py",
   "mimetype": "text/x-python",
   "name": "python",
   "nbconvert_exporter": "python",
   "pygments_lexer": "ipython3",
   "version": "3.11.8"
  }
 },
 "nbformat": 4,
 "nbformat_minor": 2
}
