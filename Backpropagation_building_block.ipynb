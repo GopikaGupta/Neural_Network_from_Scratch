{
 "cells": [
  {
   "cell_type": "code",
   "execution_count": 2,
   "metadata": {},
   "outputs": [
    {
     "name": "stdout",
     "output_type": "stream",
     "text": [
      "[[ 0.5  0.5  0.5]\n",
      " [20.1 20.1 20.1]\n",
      " [10.9 10.9 10.9]\n",
      " [ 4.1  4.1  4.1]]\n"
     ]
    }
   ],
   "source": [
    "import numpy as np\n",
    "\n",
    "### gardient of LOSS w.r.t WEIGHTS\n",
    "dvalues=np.array([[1.,1.,1.],[2.,2.,2.],[3.,3.,3.]])\n",
    "inputs=np.array([[1.,2.,3.,2.5],\n",
    "                [2.,5.,-1.,2.],\n",
    "                [-1.5,2.7,3.3,-0.8]])\n",
    "dweights=np.dot(inputs.T,dvalues)\n",
    "\n",
    "print(dweights)"
   ]
  },
  {
   "cell_type": "code",
   "execution_count": 3,
   "metadata": {},
   "outputs": [
    {
     "name": "stdout",
     "output_type": "stream",
     "text": [
      "[[6. 6. 6.]]\n"
     ]
    }
   ],
   "source": [
    "### gardient of LOSS w.r.t BIAS\n",
    "dvalues=np.array([[1.,1.,1.],[2.,2.,2.],[3.,3.,3.]])\n",
    "inputs=np.array([2.0,3.0,0.5])\n",
    "dbiases=np.sum(dvalues,axis=0,keepdims=True)\n",
    "\n",
    "print(dbiases)"
   ]
  },
  {
   "cell_type": "code",
   "execution_count": 8,
   "metadata": {},
   "outputs": [
    {
     "name": "stdout",
     "output_type": "stream",
     "text": [
      "[[ 0.44  0.16 -0.07  1.37]\n",
      " [ 0.88  0.32 -0.14  2.74]\n",
      " [ 1.32  0.48 -0.21  4.11]]\n"
     ]
    }
   ],
   "source": [
    "### gardient of LOSS w.r.t INPUTS\n",
    "dvalues=np.array([[1.,1.,1.],[2.,2.,2.],[3.,3.,3.]])\n",
    "weights=np.array([[0.2,0.8,-0.5,1],\n",
    "                [0.5,-0.91,0.26,-0.5],\n",
    "                [-0.26,0.27,0.17,0.87]]).T\n",
    "dweights=np.dot(dvalues,weights.T)\n",
    "\n",
    "print(dweights)"
   ]
  },
  {
   "cell_type": "code",
   "execution_count": 9,
   "metadata": {},
   "outputs": [],
   "source": [
    "### Adding the backward method to DENSE LAYER CLASS\n",
    "class Layer_Dense:\n",
    "    ## backward pass\n",
    "    def backward(self,dvalues):\n",
    "        # gardient on parameter\n",
    "        self.dweights=np.dot(self.inputs.T,dvalues)\n",
    "        self.dbiases=np.sum(dvalues,axis=0,keepdims=True)\n",
    "        self.dinputs=np.dot(dvalues,self.weights.T)\n",
    "\n",
    "\n",
    "## Already defined ReLu activation class\n",
    "class Activation_relu:\n",
    "    def forward(self,inputs):\n",
    "        self.output=np.maximum(0,inputs)\n",
    "\n",
    "### Adding the backward method to ReLU activation class\n",
    "class Activation_Relu:\n",
    "    def forward(self, inputs):\n",
    "        self.inputs=inputs\n",
    "        self.output=np.maximum(0,inputs)\n",
    "    def backward(self,dvalues):\n",
    "        self.dinputs=dvalues.copy()\n",
    "        self.dinputs[self.inputs<=0]=0\n",
    "\n"
   ]
  },
  {
   "cell_type": "code",
   "execution_count": 16,
   "metadata": {},
   "outputs": [],
   "source": [
    "## Common loss class\n",
    "class Loss:\n",
    "    def calculate(self,output,y):\n",
    "        sample_losses=self.forward(output,y)\n",
    "        data_loss=np.mean(sample_losses)\n",
    "        return data_loss\n",
    "\n",
    "\n",
    "\n",
    "### Adding backward pass to Cross Entropy loss\n",
    "class Loss_categoricalCrossEntropy(Loss):\n",
    "    def backward(self, dvalues,y_true):\n",
    "        samples=len(dvalues)\n",
    "        labels=len(dvalues[0])\n",
    "        if len(y_true.shape)==1:\n",
    "            y_true=np.eye(labels)[y_true] ## one hot encoding\n",
    "        self.dinputs=-y_true/dvalues\n",
    "        self.dinputs=self.dinputs/samples ## normalizing\n"
   ]
  },
  {
   "cell_type": "code",
   "execution_count": 17,
   "metadata": {},
   "outputs": [],
   "source": [
    "\n",
    "### Softmax activation function\n",
    "class Activation_softmax:\n",
    "    def forward(self,inputs):\n",
    "        exp_values=np.exp(inputs-np.max(inputs,axis=1,keepdims=True))\n",
    "        probablities=exp_values/np.sum(exp_values,axis=1,keepdims=True)\n",
    "        self.output=probablities\n",
    "\n",
    "\n",
    "## Softmax classifier: Combined softmax and Cross Entropy loss for faster backward step\n",
    "class Activation_softmax_CrossEntropy_Loss:\n",
    "    def __init__(self):\n",
    "        self.activation=Activation_softmax()\n",
    "        self.loss=Loss_categoricalCrossEntropy()\n",
    "    \n",
    "    def forward(self,inputs,y_true):\n",
    "        self.activation.forward(inputs)\n",
    "        self.outputs=self.activation.output\n",
    "        return self.loss.calculate(self.outputs,y_true)\n",
    "    \n",
    "    def backward(self, dvalues,y_true):\n",
    "        samples=len(dvalues)\n",
    "        if len(y_true.shape)==2:\n",
    "            y_true=np.argmax(y_true,axis=1) ## one hot encoding\n",
    "        self.dinputs=dvalues.copy()\n",
    "        self.dinputs[range(samples),y_true]-=1\n",
    "        self.dinputs=self.dinputs/samples ## normalizing"
   ]
  },
  {
   "cell_type": "code",
   "execution_count": 18,
   "metadata": {},
   "outputs": [
    {
     "name": "stdout",
     "output_type": "stream",
     "text": [
      "gradient: Combined loss and activation: \n",
      "[[-0.1         0.03333333  0.06666667]\n",
      " [ 0.03333333 -0.16666667  0.13333333]\n",
      " [ 0.00666667 -0.03333333  0.02666667]]\n"
     ]
    }
   ],
   "source": [
    "softmax_outputs=np.array([[0.7,0.1,0.2],[0.1,0.5,0.4],[0.02,0.9,0.08]])\n",
    "class_target=np.array([0,1,1])\n",
    "softmax_loss=Activation_softmax_CrossEntropy_Loss()\n",
    "softmax_loss.backward(softmax_outputs,class_target)\n",
    "dvalues1=softmax_loss.dinputs\n",
    "print('gradient: Combined loss and activation: ')\n",
    "print(dvalues1)"
   ]
  }
 ],
 "metadata": {
  "kernelspec": {
   "display_name": "base",
   "language": "python",
   "name": "python3"
  },
  "language_info": {
   "codemirror_mode": {
    "name": "ipython",
    "version": 3
   },
   "file_extension": ".py",
   "mimetype": "text/x-python",
   "name": "python",
   "nbconvert_exporter": "python",
   "pygments_lexer": "ipython3",
   "version": "3.10.9"
  }
 },
 "nbformat": 4,
 "nbformat_minor": 2
}
