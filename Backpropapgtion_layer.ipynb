{
 "cells": [
  {
   "cell_type": "code",
   "execution_count": 2,
   "metadata": {},
   "outputs": [
    {
     "name": "stdout",
     "output_type": "stream",
     "text": [
      "iteration1,loss:466.56000000000006\n",
      "iteration21,loss:5.32959636083938\n",
      "iteration41,loss:0.41191523404899866\n",
      "iteration61,loss:0.031836212079467595\n",
      "iteration81,loss:0.002460565465389601\n",
      "iteration101,loss:0.000190172825660145\n",
      "iteration121,loss:1.4698126966451542e-05\n",
      "iteration141,loss:1.1359926717815175e-06\n",
      "iteration161,loss:8.779889800154524e-08\n",
      "iteration181,loss:6.7858241357822796e-09\n",
      "final weights:\n",
      " [[-0.00698895 -0.01397789 -0.02096684 -0.02795579]\n",
      " [ 0.25975286  0.11950572 -0.02074143 -0.16098857]\n",
      " [ 0.53548461  0.27096922  0.00645383 -0.25806156]]\n",
      "final bias:\n",
      " [-0.00698895 -0.04024714 -0.06451539]\n"
     ]
    }
   ],
   "source": [
    "import numpy as np\n",
    "\n",
    "\n",
    "### Initial parameters\n",
    "weights=np.array([[0.1,0.2,0.3,0.4],\n",
    "                [0.5,0.6,0.7,0.8],\n",
    "                [0.9,1.0,1.1,1.2]])\n",
    "bias=np.array([0.1,0.2,0.3])\n",
    "inputs=np.array([1,2,3,4])\n",
    "\n",
    "learning_rate=0.001\n",
    "\n",
    "\n",
    "def relu(x):\n",
    "    return(np.maximum(0,x))\n",
    "\n",
    "\n",
    "def relu_derivative(x):\n",
    "    return np.where(x>0,1.,0.)\n",
    "\n",
    "for iterations in range(200):\n",
    "    # forward pass\n",
    "    z=np.dot(weights,inputs)+bias\n",
    "    a=relu(z)\n",
    "    y=np.sum(a)\n",
    "    loss=y**2\n",
    "\n",
    "\n",
    "    #backward pass\n",
    "    dl_dy=2*y\n",
    "    dy_da=np.ones_like(a)\n",
    "\n",
    "    dL_da=dl_dy*dy_da\n",
    "    da_dz=relu_derivative(z)\n",
    "\n",
    "    dL_dz=dL_da*da_dz\n",
    "\n",
    "\n",
    "    dL_dw=np.outer(dL_dz,inputs)\n",
    "\n",
    "    dL_db=dL_dz\n",
    "\n",
    "\n",
    "    ##update weights and biases\n",
    "    weights-=learning_rate*dL_dw\n",
    "    bias-=learning_rate*dL_db\n",
    "\n",
    "    ## print the loss for every 20 iteration\n",
    "    if iterations%20==0:\n",
    "        print(f\"iteration{iterations+1},loss:{loss}\")\n",
    "\n",
    "\n",
    "print('final weights:\\n',weights)\n",
    "print('final bias:\\n',bias)"
   ]
  }
 ],
 "metadata": {
  "kernelspec": {
   "display_name": "base",
   "language": "python",
   "name": "python3"
  },
  "language_info": {
   "codemirror_mode": {
    "name": "ipython",
    "version": 3
   },
   "file_extension": ".py",
   "mimetype": "text/x-python",
   "name": "python",
   "nbconvert_exporter": "python",
   "pygments_lexer": "ipython3",
   "version": "3.10.9"
  }
 },
 "nbformat": 4,
 "nbformat_minor": 2
}
