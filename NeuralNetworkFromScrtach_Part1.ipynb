{
 "cells": [
  {
   "cell_type": "code",
   "execution_count": 7,
   "metadata": {},
   "outputs": [],
   "source": [
    "### Constructing a neuron with 3 Inputs, weights and Bias\n",
    "inputs=[1,2,3]\n",
    "weights=[0.2,0.8,-0.5]\n",
    "bias=2\n",
    "\n",
    "output=inputs[0]*weights[0]+inputs[1]*weights[1]+inputs[2]*weights[2]+bias\n",
    "print(output)"
   ]
  },
  {
   "cell_type": "code",
   "execution_count": 9,
   "metadata": {},
   "outputs": [],
   "source": [
    "### Constructing a neuron with 4 Inputs, weights and Bias\n",
    "inputs=[1,2,3,2.5]\n",
    "weights=[0.2,0.8,-0.5,1.0]\n",
    "bias=2\n",
    "\n",
    "output=inputs[0]*weights[0]+inputs[1]*weights[1]+inputs[2]*weights[2]+inputs[3]*weights[3]+bias\n",
    "print(output)"
   ]
  },
  {
   "cell_type": "code",
   "execution_count": null,
   "metadata": {},
   "outputs": [
    {
     "name": "stdout",
     "output_type": "stream",
     "text": [
      "[4.8, 1.21, 2.385]\n"
     ]
    }
   ],
   "source": [
    "### Constructing a neuron with Layer of Neuron\n",
    "inputs=[1,2,3,2.5]\n",
    "weights=[[0.2,0.8,-0.5,1.0], # Since each neuron has its own set of weights\n",
    "[0.5,-0.91,0.26,-0.5],\n",
    "[-0.26,-0.27,0.17,0.87]]\n",
    "bias=[2,3,0.5]\n",
    "\n",
    "output=[inputs[0]*weights[0][0]+inputs[1]*weights[0][1]+inputs[2]*weights[0][2]+inputs[3]*weights[0][3]+bias[0],\n",
    "inputs[0]*weights[1][0]+inputs[1]*weights[1][1]+inputs[2]*weights[1][2]+inputs[3]*weights[1][3]+bias[1],\n",
    "inputs[0]*weights[2][0]+inputs[1]*weights[2][1]+inputs[2]*weights[2][2]+inputs[3]*weights[2][3]+bias[2]]\n",
    "print(output)"
   ]
  },
  {
   "cell_type": "code",
   "execution_count": 27,
   "metadata": {},
   "outputs": [
    {
     "name": "stdout",
     "output_type": "stream",
     "text": [
      "[4.8, 1.21, 2.385]\n"
     ]
    }
   ],
   "source": [
    "## But we can not write the above code for 50 iterations. So we will use loops\n",
    "inputs=[1,2,3,2.5]\n",
    "weights=[[0.2,0.8,-0.5,1.0], # Since each neuron has its own set of weights\n",
    "[0.5,-0.91,0.26,-0.5],\n",
    "[-0.26,-0.27,0.17,0.87]]\n",
    "bias=[2,3,0.5]\n",
    "\n",
    "### output\n",
    "output_layers=[]\n",
    "## For each neuron\n",
    "for neuron_weights, neuron_biases in zip(weights,bias):\n",
    "    neuron_output=0\n",
    "    for input,weights in zip(inputs, neuron_weights):\n",
    "        neuron_output+=input*weights\n",
    "    neuron_output+=neuron_biases\n",
    "    output_layers.append(neuron_output)\n",
    "\n",
    "print(output_layers)\n",
    "\n"
   ]
  },
  {
   "cell_type": "code",
   "execution_count": 39,
   "metadata": {},
   "outputs": [
    {
     "name": "stdout",
     "output_type": "stream",
     "text": [
      "[4.8, 1.21, 2.385]\n"
     ]
    }
   ],
   "source": [
    "# lets try to do it ourself\n",
    "inputs=[1,2,3,2.5]\n",
    "weights=[[0.2,0.8,-0.5,1.0], # Since each neuron has its own set of weights\n",
    "[0.5,-0.91,0.26,-0.5],\n",
    "[-0.26,-0.27,0.17,0.87]]\n",
    "bias=[2,3,0.5]\n",
    "\n",
    "### output\n",
    "output_layers=[]\n",
    "for j in range(len(weights)):\n",
    "    neuron_output = 0  # Initialize to 0 for each neuron\n",
    "    for i in range(len(inputs)):        \n",
    "        neuron_output += inputs[i] * weights[j][i]\n",
    "    neuron_output+=bias[j]\n",
    "    output_layers.append(neuron_output)\n",
    "\n",
    "\n",
    "print(output_layers)\n",
    "\n",
    "    "
   ]
  }
 ],
 "metadata": {
  "kernelspec": {
   "display_name": "base",
   "language": "python",
   "name": "python3"
  },
  "language_info": {
   "codemirror_mode": {
    "name": "ipython",
    "version": 3
   },
   "file_extension": ".py",
   "mimetype": "text/x-python",
   "name": "python",
   "nbconvert_exporter": "python",
   "pygments_lexer": "ipython3",
   "version": "3.10.9"
  }
 },
 "nbformat": 4,
 "nbformat_minor": 2
}
